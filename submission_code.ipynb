{
 "cells": [
  {
   "cell_type": "markdown",
   "metadata": {},
   "source": [
    "# Dacon 한국어 문장 관계 분류\n",
    "\n",
    "Kaggle notebook gpu 환경에서 학습을 진행하였습니다.  \n",
    "데이터: 기존 학습데이터 + klue 검증데이터(기존 test셋에서 중복되는 데이터 6개 제거)  \n",
    "모델: roberta-large + self explaining structures improve NLP models를 사용하였습니다.  \n",
    "5 fold 전략과 가중치 초기화를 적용하였습니다.\n"
   ]
  },
  {
   "cell_type": "markdown",
   "metadata": {},
   "source": [
    "추가 데이터: https://aistages-prod-server-public.s3.amazonaws.com/app/Competitions/000068/data/klue-nli-v1.1.tar.gz  \n",
    "self explaing NLP: https://arxiv.org/abs/2012.01786"
   ]
  },
  {
   "cell_type": "code",
   "execution_count": 1,
   "metadata": {
    "_cell_guid": "b1076dfc-b9ad-4769-8c92-a6c4dae69d19",
    "_uuid": "8f2839f25d086af736a60e9eeb907d3b93b6e0e5",
    "execution": {
     "iopub.execute_input": "2022-02-10T21:07:46.550163Z",
     "iopub.status.busy": "2022-02-10T21:07:46.549502Z",
     "iopub.status.idle": "2022-02-10T21:07:49.640813Z",
     "shell.execute_reply": "2022-02-10T21:07:49.640019Z",
     "shell.execute_reply.started": "2022-02-10T21:07:46.549953Z"
    }
   },
   "outputs": [],
   "source": [
    "import pandas as pd\n",
    "import numpy as np\n",
    "import torch\n",
    "from torch import nn\n",
    "from transformers import AdamW, AutoTokenizer, AutoModel\n",
    "from torch.utils.data import Dataset, DataLoader, TensorDataset, RandomSampler\n",
    "from sklearn.model_selection import train_test_split\n",
    "import random\n",
    "import os\n",
    "from tqdm import tqdm\n",
    "from transformers import get_linear_schedule_with_warmup\n",
    "import torch.nn.functional as F\n",
    "from torch.nn import Parameter\n",
    "import math\n",
    "from torch.optim import Adam\n",
    "from sklearn.model_selection import KFold\n",
    "import urllib.request\n",
    "from typing import List\n",
    "from functools import partial\n",
    "import torchmetrics"
   ]
  },
  {
   "cell_type": "code",
   "execution_count": 2,
   "metadata": {
    "execution": {
     "iopub.execute_input": "2022-02-10T21:07:49.642276Z",
     "iopub.status.busy": "2022-02-10T21:07:49.642025Z",
     "iopub.status.idle": "2022-02-10T21:07:49.649552Z",
     "shell.execute_reply": "2022-02-10T21:07:49.648669Z",
     "shell.execute_reply.started": "2022-02-10T21:07:49.642240Z"
    }
   },
   "outputs": [],
   "source": [
    "seed_num = 22\n",
    "random.seed(seed_num)\n",
    "np.random.seed(seed_num)\n",
    "torch.manual_seed(seed_num)\n",
    "torch.cuda.manual_seed_all(seed_num)\n",
    "kf = KFold(n_splits=5, random_state=seed_num, shuffle=True)"
   ]
  },
  {
   "cell_type": "code",
   "execution_count": 3,
   "metadata": {
    "execution": {
     "iopub.execute_input": "2022-02-10T21:07:49.651948Z",
     "iopub.status.busy": "2022-02-10T21:07:49.650939Z",
     "iopub.status.idle": "2022-02-10T21:07:49.696773Z",
     "shell.execute_reply": "2022-02-10T21:07:49.695961Z",
     "shell.execute_reply.started": "2022-02-10T21:07:49.651907Z"
    }
   },
   "outputs": [],
   "source": [
    "if torch.cuda.is_available():    \n",
    "    device = torch.device(\"cuda\")\n",
    "    print('There are %d GPU(s) available.' % torch.cuda.device_count())\n",
    "    print('We will use the GPU:', torch.cuda.get_device_name(0))\n",
    "else:\n",
    "    device = torch.device(\"cpu\")\n",
    "    print('No GPU available, using the CPU instead.')"
   ]
  },
  {
   "cell_type": "code",
   "execution_count": 4,
   "metadata": {
    "execution": {
     "iopub.execute_input": "2022-02-10T21:07:49.700271Z",
     "iopub.status.busy": "2022-02-10T21:07:49.699928Z",
     "iopub.status.idle": "2022-02-10T21:07:49.845775Z",
     "shell.execute_reply": "2022-02-10T21:07:49.844960Z",
     "shell.execute_reply.started": "2022-02-10T21:07:49.700229Z"
    }
   },
   "outputs": [],
   "source": [
    "train = pd.read_csv('/kaggle/input/addtrain/add_train.csv')\n",
    "test = pd.read_csv('/kaggle/input/kornli/test_data.csv')\n",
    "submission = pd.read_csv('/kaggle/input/kornli/sample_submission.csv')"
   ]
  },
  {
   "cell_type": "code",
   "execution_count": 5,
   "metadata": {
    "execution": {
     "iopub.execute_input": "2022-02-10T21:07:49.847497Z",
     "iopub.status.busy": "2022-02-10T21:07:49.847211Z",
     "iopub.status.idle": "2022-02-10T21:07:49.856253Z",
     "shell.execute_reply": "2022-02-10T21:07:49.855362Z",
     "shell.execute_reply.started": "2022-02-10T21:07:49.847459Z"
    }
   },
   "outputs": [],
   "source": [
    "len(train)"
   ]
  },
  {
   "cell_type": "code",
   "execution_count": 6,
   "metadata": {
    "execution": {
     "iopub.execute_input": "2022-02-10T21:07:49.858440Z",
     "iopub.status.busy": "2022-02-10T21:07:49.857868Z",
     "iopub.status.idle": "2022-02-10T21:07:49.901593Z",
     "shell.execute_reply": "2022-02-10T21:07:49.900868Z",
     "shell.execute_reply.started": "2022-02-10T21:07:49.858396Z"
    }
   },
   "outputs": [],
   "source": [
    "train = train.drop_duplicates(['premise', 'hypothesis'])\n",
    "len(train)"
   ]
  },
  {
   "cell_type": "code",
   "execution_count": 7,
   "metadata": {
    "execution": {
     "iopub.execute_input": "2022-02-10T21:07:49.902971Z",
     "iopub.status.busy": "2022-02-10T21:07:49.902749Z",
     "iopub.status.idle": "2022-02-10T21:07:49.909631Z",
     "shell.execute_reply": "2022-02-10T21:07:49.908772Z",
     "shell.execute_reply.started": "2022-02-10T21:07:49.902939Z"
    }
   },
   "outputs": [],
   "source": [
    "train = train.reset_index()"
   ]
  },
  {
   "cell_type": "code",
   "execution_count": 8,
   "metadata": {
    "execution": {
     "iopub.execute_input": "2022-02-10T21:07:49.911417Z",
     "iopub.status.busy": "2022-02-10T21:07:49.910943Z",
     "iopub.status.idle": "2022-02-10T21:07:49.934205Z",
     "shell.execute_reply": "2022-02-10T21:07:49.933474Z",
     "shell.execute_reply.started": "2022-02-10T21:07:49.911380Z"
    }
   },
   "outputs": [],
   "source": [
    "train = train[['index', 'premise', 'hypothesis', 'label']]\n",
    "train['index'] = list(range(len(train)))"
   ]
  },
  {
   "cell_type": "code",
   "execution_count": 9,
   "metadata": {
    "execution": {
     "iopub.execute_input": "2022-02-10T21:07:49.937798Z",
     "iopub.status.busy": "2022-02-10T21:07:49.937584Z",
     "iopub.status.idle": "2022-02-10T21:07:49.950064Z",
     "shell.execute_reply": "2022-02-10T21:07:49.949121Z",
     "shell.execute_reply.started": "2022-02-10T21:07:49.937766Z"
    }
   },
   "outputs": [],
   "source": [
    "class NLIDataset(Dataset):\n",
    "    def __init__(self, data, is_train=True):\n",
    "        super().__init__()\n",
    "        self.max_length = 70\n",
    "        self.label_dict = {\"entailment\" : 0, \"contradiction\" : 1, \"neutral\" : 2}\n",
    "        self.data = data\n",
    "        self.tokenizer = AutoTokenizer.from_pretrained(\"klue/roberta-large\")\n",
    "        self.is_train = is_train\n",
    "        \n",
    "    def __len__(self):\n",
    "        return len(self.data)\n",
    "\n",
    "    def __getitem__(self, idx):\n",
    "        if self.is_train:\n",
    "            sentence_1, sentence_2, label = self.data['premise'][idx], self.data['hypothesis'][idx], self.data['label'][idx]\n",
    "            label = self.label_dict[label]\n",
    "            label = torch.LongTensor([label])\n",
    "        else:\n",
    "            sentence_1, sentence_2 = self.data['premise'][idx], self.data['hypothesis'][idx]\n",
    "        sentence_1_input_ids = self.tokenizer.encode(sentence_1, add_special_tokens=False)\n",
    "        sentence_2_input_ids = self.tokenizer.encode(sentence_2, add_special_tokens=False)\n",
    "        input_ids = sentence_1_input_ids + [2] + sentence_2_input_ids\n",
    "        if len(input_ids) > self.max_length - 2:\n",
    "            input_ids = input_ids[:self.max_length - 2]\n",
    "        length = torch.LongTensor([len(input_ids) + 2])\n",
    "        input_ids = torch.LongTensor([0] + input_ids + [2])\n",
    "        if self.is_train:\n",
    "            return input_ids, label, length\n",
    "        else:\n",
    "            return input_ids, length"
   ]
  },
  {
   "cell_type": "code",
   "execution_count": 10,
   "metadata": {
    "execution": {
     "iopub.execute_input": "2022-02-10T21:07:49.951678Z",
     "iopub.status.busy": "2022-02-10T21:07:49.951418Z",
     "iopub.status.idle": "2022-02-10T21:07:49.961901Z",
     "shell.execute_reply": "2022-02-10T21:07:49.961029Z",
     "shell.execute_reply.started": "2022-02-10T21:07:49.951643Z"
    }
   },
   "outputs": [],
   "source": [
    "batch_size = 32"
   ]
  },
  {
   "cell_type": "code",
   "execution_count": 11,
   "metadata": {
    "execution": {
     "iopub.execute_input": "2022-02-10T21:07:49.963470Z",
     "iopub.status.busy": "2022-02-10T21:07:49.963158Z",
     "iopub.status.idle": "2022-02-10T21:07:52.362069Z",
     "shell.execute_reply": "2022-02-10T21:07:52.361339Z",
     "shell.execute_reply.started": "2022-02-10T21:07:49.963437Z"
    }
   },
   "outputs": [],
   "source": [
    "train_dataset = NLIDataset(train)"
   ]
  },
  {
   "cell_type": "code",
   "execution_count": 12,
   "metadata": {
    "execution": {
     "iopub.execute_input": "2022-02-10T21:07:52.363510Z",
     "iopub.status.busy": "2022-02-10T21:07:52.363237Z",
     "iopub.status.idle": "2022-02-10T21:07:52.380128Z",
     "shell.execute_reply": "2022-02-10T21:07:52.379340Z",
     "shell.execute_reply.started": "2022-02-10T21:07:52.363475Z"
    }
   },
   "outputs": [],
   "source": [
    "def collate_to_max_length(batch: List[List[torch.Tensor]], max_len: int = None, fill_values: List[float] = None) -> \\\n",
    "    List[torch.Tensor]:\n",
    "    lengths = np.array([[len(field_data) for field_data in sample] for sample in batch])\n",
    "    batch_size, num_fields = lengths.shape\n",
    "    fill_values = fill_values or [0.0] * num_fields\n",
    "    max_lengths = lengths.max(axis=0)\n",
    "    if max_len:\n",
    "        assert max_lengths.max() <= max_len\n",
    "        max_lengths = np.ones_like(max_lengths) * max_len\n",
    "\n",
    "    output = [torch.full([batch_size, max_lengths[field_idx]],\n",
    "                         fill_value=fill_values[field_idx],\n",
    "                         dtype=batch[0][field_idx].dtype)\n",
    "              for field_idx in range(num_fields)]\n",
    "    for sample_idx in range(batch_size):\n",
    "        for field_idx in range(num_fields):\n",
    "            data = batch[sample_idx][field_idx]\n",
    "            output[field_idx][sample_idx][: data.shape[0]] = data\n",
    "    max_sentence_length = max_lengths[0]\n",
    "    start_indexs = []\n",
    "    end_indexs = []\n",
    "    for i in range(1, max_sentence_length - 1):\n",
    "        for j in range(i, max_sentence_length - 1):\n",
    "            start_indexs.append(i)\n",
    "            end_indexs.append(j)\n",
    "    span_masks = []\n",
    "    for input_ids, label, length in batch:\n",
    "        span_mask = []\n",
    "        middle_index = input_ids.tolist().index(2)\n",
    "        for start_index, end_index in zip(start_indexs, end_indexs):\n",
    "            if 1 <= start_index <= length.item() - 2 and 1 <= end_index <= length.item() - 2 and (\n",
    "                start_index > middle_index or end_index < middle_index):\n",
    "                span_mask.append(0)\n",
    "            else:\n",
    "                span_mask.append(1e6)\n",
    "        span_masks.append(span_mask)\n",
    "    output.append(torch.LongTensor(start_indexs))\n",
    "    output.append(torch.LongTensor(end_indexs))\n",
    "    output.append(torch.LongTensor(span_masks))\n",
    "    return output"
   ]
  },
  {
   "cell_type": "code",
   "execution_count": 13,
   "metadata": {
    "execution": {
     "iopub.execute_input": "2022-02-10T21:07:52.384493Z",
     "iopub.status.busy": "2022-02-10T21:07:52.383980Z",
     "iopub.status.idle": "2022-02-10T21:07:52.396973Z",
     "shell.execute_reply": "2022-02-10T21:07:52.396194Z",
     "shell.execute_reply.started": "2022-02-10T21:07:52.384450Z"
    }
   },
   "outputs": [],
   "source": [
    "class SICModel(nn.Module):\n",
    "    def __init__(self, hidden_size):\n",
    "        super().__init__()\n",
    "        self.hidden_size = hidden_size\n",
    "\n",
    "        self.W_1 = nn.Linear(hidden_size, hidden_size)\n",
    "        self.W_2 = nn.Linear(hidden_size, hidden_size)\n",
    "        self.W_3 = nn.Linear(hidden_size, hidden_size)\n",
    "        self.W_4 = nn.Linear(hidden_size, hidden_size)\n",
    "        self._init_params()\n",
    "        \n",
    "    def _init_params(self):\n",
    "        nn.init.xavier_normal_(self.W_1.weight)\n",
    "        nn.init.constant_(self.W_1.bias, 0)\n",
    "        nn.init.xavier_normal_(self.W_2.weight)\n",
    "        nn.init.constant_(self.W_2.bias, 0)\n",
    "        nn.init.xavier_normal_(self.W_3.weight)\n",
    "        nn.init.constant_(self.W_3.bias, 0)\n",
    "        nn.init.xavier_normal_(self.W_4.weight)\n",
    "        nn.init.constant_(self.W_4.bias, 0)\n",
    "\n",
    "\n",
    "    def forward(self, hidden_states, start_indexs, end_indexs):\n",
    "        W1_h = self.W_1(hidden_states)\n",
    "        W2_h = self.W_2(hidden_states)\n",
    "        W3_h = self.W_3(hidden_states)\n",
    "        W4_h = self.W_4(hidden_states)\n",
    "\n",
    "        W1_hi_emb = torch.index_select(W1_h, 1, start_indexs)\n",
    "        W2_hj_emb = torch.index_select(W2_h, 1, end_indexs)\n",
    "        W3_hi_start_emb = torch.index_select(W3_h, 1, start_indexs)\n",
    "        W3_hi_end_emb = torch.index_select(W3_h, 1, end_indexs)\n",
    "        W4_hj_start_emb = torch.index_select(W4_h, 1, start_indexs)\n",
    "        W4_hj_end_emb = torch.index_select(W4_h, 1, end_indexs)\n",
    "\n",
    "        span = W1_hi_emb + W2_hj_emb + (W3_hi_start_emb - W3_hi_end_emb) + torch.mul(W4_hj_start_emb, W4_hj_end_emb)\n",
    "        h_ij = torch.tanh(span)\n",
    "        return h_ij"
   ]
  },
  {
   "cell_type": "code",
   "execution_count": 14,
   "metadata": {
    "execution": {
     "iopub.execute_input": "2022-02-10T21:07:52.398743Z",
     "iopub.status.busy": "2022-02-10T21:07:52.398254Z",
     "iopub.status.idle": "2022-02-10T21:07:52.409029Z",
     "shell.execute_reply": "2022-02-10T21:07:52.408402Z",
     "shell.execute_reply.started": "2022-02-10T21:07:52.398706Z"
    }
   },
   "outputs": [],
   "source": [
    "class InterpretationModel(nn.Module):\n",
    "    def __init__(self, hidden_size):\n",
    "        super().__init__()\n",
    "        self.h_t = nn.Linear(hidden_size, 1)\n",
    "\n",
    "    def forward(self, h_ij, span_masks):\n",
    "        o_ij = self.h_t(h_ij).squeeze(-1)\n",
    "        o_ij = o_ij - span_masks\n",
    "        a_ij = nn.functional.softmax(o_ij, dim=1)\n",
    "        H = (a_ij.unsqueeze(-1) * h_ij).sum(dim=1)\n",
    "        return H, a_ij"
   ]
  },
  {
   "cell_type": "code",
   "execution_count": 15,
   "metadata": {
    "execution": {
     "iopub.execute_input": "2022-02-10T21:07:52.411410Z",
     "iopub.status.busy": "2022-02-10T21:07:52.409940Z",
     "iopub.status.idle": "2022-02-10T21:07:52.422303Z",
     "shell.execute_reply": "2022-02-10T21:07:52.421581Z",
     "shell.execute_reply.started": "2022-02-10T21:07:52.411373Z"
    }
   },
   "outputs": [],
   "source": [
    "class ExplainableModel(nn.Module):\n",
    "    def __init__(self):\n",
    "        super().__init__()\n",
    "        self.intermediate = AutoModel.from_pretrained(\"klue/roberta-large\")\n",
    "        hidden_size = 1024\n",
    "        self.span_info_collect = SICModel(hidden_size)\n",
    "        self.interpretation = InterpretationModel(hidden_size)\n",
    "        self.output = nn.Linear(hidden_size, 3)\n",
    "        self._init_params()\n",
    "        \n",
    "    def _init_params(self):\n",
    "        nn.init.xavier_normal_(self.output.weight)\n",
    "        nn.init.constant_(self.output.bias, 0)\n",
    "        \n",
    "\n",
    "    def forward(self, input_ids, start_indexs, end_indexs, span_masks):\n",
    "        attention_mask = (input_ids != 1).long()\n",
    "        x= self.intermediate(input_ids, attention_mask=attention_mask)\n",
    "        h_ij = self.span_info_collect(x.last_hidden_state, start_indexs, end_indexs)\n",
    "        H, a_ij = self.interpretation(h_ij, span_masks)\n",
    "        out = self.output(H)\n",
    "        return out, a_ij"
   ]
  },
  {
   "cell_type": "code",
   "execution_count": 16,
   "metadata": {
    "execution": {
     "iopub.execute_input": "2022-02-10T21:07:52.424255Z",
     "iopub.status.busy": "2022-02-10T21:07:52.423702Z",
     "iopub.status.idle": "2022-02-10T21:07:52.431113Z",
     "shell.execute_reply": "2022-02-10T21:07:52.430475Z",
     "shell.execute_reply.started": "2022-02-10T21:07:52.424206Z"
    }
   },
   "outputs": [],
   "source": [
    "epochs = 3\n",
    "criterion = nn.CrossEntropyLoss()"
   ]
  },
  {
   "cell_type": "code",
   "execution_count": 17,
   "metadata": {
    "execution": {
     "iopub.execute_input": "2022-02-10T21:07:52.432941Z",
     "iopub.status.busy": "2022-02-10T21:07:52.432451Z",
     "iopub.status.idle": "2022-02-10T21:07:53.100138Z",
     "shell.execute_reply": "2022-02-10T21:07:53.099264Z",
     "shell.execute_reply.started": "2022-02-10T21:07:52.432906Z"
    }
   },
   "outputs": [],
   "source": [
    "train_acc = torchmetrics.Accuracy()\n",
    "def cal_accuracy(X,Y):\n",
    "    predict_scores = F.softmax(X, dim=1)\n",
    "    predict_labels = torch.argmax(predict_scores, dim=-1)\n",
    "    acc = train_acc(predict_labels.to('cpu'), y.cpu())\n",
    "    return acc"
   ]
  },
  {
   "cell_type": "code",
   "execution_count": 18,
   "metadata": {
    "execution": {
     "iopub.execute_input": "2022-02-10T21:07:53.102229Z",
     "iopub.status.busy": "2022-02-10T21:07:53.101983Z",
     "iopub.status.idle": "2022-02-11T01:00:07.735757Z",
     "shell.execute_reply": "2022-02-11T01:00:07.734904Z",
     "shell.execute_reply.started": "2022-02-10T21:07:53.102200Z"
    }
   },
   "outputs": [],
   "source": [
    "for fold,(train_idx,valid_idx) in enumerate(kf.split(train_dataset)):\n",
    "    train_subsampler = torch.utils.data.SubsetRandomSampler(train_idx)\n",
    "    valid_subsampler = torch.utils.data.SubsetRandomSampler(valid_idx)\n",
    "    train_dataLoader = DataLoader(train_dataset, batch_size=batch_size, sampler=train_subsampler, collate_fn=partial(collate_to_max_length, fill_values=[1, 0, 0]))\n",
    "    valid_dataLoader = DataLoader(train_dataset, batch_size=batch_size, sampler=valid_subsampler, collate_fn=partial(collate_to_max_length, fill_values=[1, 0, 0]))\n",
    "    best_acc = 0\n",
    "    best_loss = 10\n",
    "    model = ExplainableModel().to(device)\n",
    "    no_decay = ['bias', 'LayerNorm.weight']\n",
    "    optimizer_grouped_parameters = [\n",
    "        {'params': [p for n, p in model.named_parameters() if not any(nd in n for nd in no_decay)], 'weight_decay': 0.01},\n",
    "        {'params': [p for n, p in model.named_parameters() if any(nd in n for nd in no_decay)], 'weight_decay': 0.0}\n",
    "    ]\n",
    "    optimizer = AdamW(optimizer_grouped_parameters, betas=(0.9, 0.98), lr=2e-5, eps=1e-8)\n",
    "    scheduler = get_linear_schedule_with_warmup(optimizer, num_warmup_steps=0,\n",
    "                                                    num_training_steps=len(train_dataLoader) * epochs)\n",
    "    model.zero_grad()\n",
    "    print(f'------------fold no---------{fold + 1}----------------------')\n",
    "    for epoch_i in range(0, epochs):\n",
    "        model.train()\n",
    "        total_loss = 0\n",
    "        train_accuracy = 0\n",
    "        nb_train_steps = 0\n",
    "        for batch in tqdm(train_dataLoader):\n",
    "            batch = tuple(t.to(device) for t in batch)\n",
    "            sen, label, length, start, end, span = batch\n",
    "            outputs, a_ij = model(sen, start, end, span)\n",
    "            y = label.view(-1)\n",
    "            ce_loss = criterion(outputs, y)\n",
    "            reg_loss = 1.0 * a_ij.pow(2).sum(dim=1).mean()\n",
    "            loss = ce_loss + reg_loss\n",
    "            total_loss += loss.item()\n",
    "            loss.backward()\n",
    "            torch.nn.utils.clip_grad_norm_(model.parameters(), 1.0)\n",
    "            optimizer.step()\n",
    "            optimizer.zero_grad()\n",
    "            scheduler.step()\n",
    "            logits = outputs\n",
    "            tmp_train_accuracy = cal_accuracy(logits, label.to('cpu').numpy())\n",
    "            train_accuracy += tmp_train_accuracy\n",
    "            nb_train_steps += 1\n",
    "        avg_train_loss = total_loss / len(train_dataLoader)\n",
    "        print('')\n",
    "        print(epoch_i + 1, f'  Average training loss: {avg_train_loss:.4f}')\n",
    "        print(f'  Accuracy: {train_accuracy/(nb_train_steps):.4f}')\n",
    "        model.eval()\n",
    "        eval_loss, eval_accuracy = 0, 0\n",
    "        nb_eval_steps, nb_eval_examples = 0, 0\n",
    "        valid_loss = 0\n",
    "        for batch in tqdm(valid_dataLoader):\n",
    "            batch = tuple(t.to(device) for t in batch)\n",
    "            sen, label, length, start, end, span = batch\n",
    "            with torch.no_grad():     \n",
    "                outputs, a_ij = model(sen, start, end, span)\n",
    "            y = label.view(-1)\n",
    "            ce_loss = criterion(outputs, y)\n",
    "            loss = ce_loss\n",
    "            valid_loss += ce_loss.item()\n",
    "            logits = outputs\n",
    "            tmp_eval_accuracy = cal_accuracy(logits, label.to('cpu').numpy())\n",
    "            eval_accuracy += tmp_eval_accuracy\n",
    "            nb_eval_steps += 1\n",
    "        avg_valid_loss = valid_loss / len(valid_dataLoader)\n",
    "        valid_accuracy = eval_accuracy/(nb_eval_steps)\n",
    "        if best_acc < valid_accuracy:\n",
    "            best_acc = valid_accuracy\n",
    "            torch.save(model, f'/kaggle/working/model{fold + 1}')\n",
    "            print(f'model{fold + 1} saved')\n",
    "        print(epoch_i + 1, f'  Average valid loss: {avg_valid_loss:.4f}')\n",
    "        print(f'  Accuracy: {valid_accuracy:.4f}')"
   ]
  },
  {
   "cell_type": "code",
   "execution_count": 19,
   "metadata": {
    "execution": {
     "iopub.execute_input": "2022-02-11T01:00:07.751200Z",
     "iopub.status.busy": "2022-02-11T01:00:07.750915Z",
     "iopub.status.idle": "2022-02-11T01:00:10.344242Z",
     "shell.execute_reply": "2022-02-11T01:00:10.343526Z",
     "shell.execute_reply.started": "2022-02-11T01:00:07.751158Z"
    }
   },
   "outputs": [],
   "source": [
    "test_dataset = SNLIDataset(test, False)"
   ]
  },
  {
   "cell_type": "code",
   "execution_count": 20,
   "metadata": {
    "execution": {
     "iopub.execute_input": "2022-02-11T01:00:10.347416Z",
     "iopub.status.busy": "2022-02-11T01:00:10.346992Z",
     "iopub.status.idle": "2022-02-11T01:00:10.363344Z",
     "shell.execute_reply": "2022-02-11T01:00:10.362612Z",
     "shell.execute_reply.started": "2022-02-11T01:00:10.347377Z"
    }
   },
   "outputs": [],
   "source": [
    "def collate_test(batch: List[List[torch.Tensor]], max_len: int = None, fill_values: List[float] = None) -> \\\n",
    "    List[torch.Tensor]:\n",
    "    lengths = np.array([[len(field_data) for field_data in sample] for sample in batch])\n",
    "    batch_size, num_fields = lengths.shape\n",
    "    fill_values = fill_values or [0.0] * num_fields\n",
    "    max_lengths = lengths.max(axis=0)\n",
    "    if max_len:\n",
    "        assert max_lengths.max() <= max_len\n",
    "        max_lengths = np.ones_like(max_lengths) * max_len\n",
    "\n",
    "    output = [torch.full([batch_size, max_lengths[field_idx]],\n",
    "                         fill_value=fill_values[field_idx],\n",
    "                         dtype=batch[0][field_idx].dtype)\n",
    "              for field_idx in range(num_fields)]\n",
    "    for sample_idx in range(batch_size):\n",
    "        for field_idx in range(num_fields):\n",
    "            data = batch[sample_idx][field_idx]\n",
    "            output[field_idx][sample_idx][: data.shape[0]] = data\n",
    "    max_sentence_length = max_lengths[0]\n",
    "    start_indexs = []\n",
    "    end_indexs = []\n",
    "    for i in range(1, max_sentence_length - 1):\n",
    "        for j in range(i, max_sentence_length - 1):\n",
    "            start_indexs.append(i)\n",
    "            end_indexs.append(j)\n",
    "    span_masks = []\n",
    "    for input_ids, length in batch:\n",
    "        span_mask = []\n",
    "        middle_index = input_ids.tolist().index(2)\n",
    "        for start_index, end_index in zip(start_indexs, end_indexs):\n",
    "            if 1 <= start_index <= length.item() - 2 and 1 <= end_index <= length.item() - 2 and (\n",
    "                start_index > middle_index or end_index < middle_index):\n",
    "                span_mask.append(0)\n",
    "            else:\n",
    "                span_mask.append(1e6)\n",
    "        span_masks.append(span_mask)\n",
    "    output.append(torch.LongTensor(start_indexs))\n",
    "    output.append(torch.LongTensor(end_indexs))\n",
    "    output.append(torch.LongTensor(span_masks))\n",
    "    return output"
   ]
  },
  {
   "cell_type": "code",
   "execution_count": 21,
   "metadata": {
    "execution": {
     "iopub.execute_input": "2022-02-11T01:00:10.364724Z",
     "iopub.status.busy": "2022-02-11T01:00:10.364491Z",
     "iopub.status.idle": "2022-02-11T01:00:11.705958Z",
     "shell.execute_reply": "2022-02-11T01:00:11.703482Z",
     "shell.execute_reply.started": "2022-02-11T01:00:10.364691Z"
    }
   },
   "outputs": [],
   "source": [
    "test_dataLoader = DataLoader(test_dataset, batch_size=batch_size, collate_fn=partial(collate_test, fill_values=[1, 0]))"
   ]
  },
  {
   "cell_type": "code",
   "execution_count": 22,
   "metadata": {
    "execution": {
     "iopub.execute_input": "2022-02-11T01:00:11.709016Z",
     "iopub.status.busy": "2022-02-11T01:00:11.708439Z",
     "iopub.status.idle": "2022-02-11T01:01:49.170354Z",
     "shell.execute_reply": "2022-02-11T01:01:49.169609Z",
     "shell.execute_reply.started": "2022-02-11T01:00:11.708970Z"
    }
   },
   "outputs": [],
   "source": [
    "folds = 5\n",
    "pred = []\n",
    "for i in range(folds) : \n",
    "    model = torch.load(f'/kaggle/working/model{i + 1}')\n",
    "    model.eval()\n",
    "    result = []\n",
    "    for batch in tqdm(test_dataLoader):\n",
    "        batch = tuple(t.to(device) for t in batch)\n",
    "        sen, length, start, end, span = batch\n",
    "        with torch.no_grad():     \n",
    "            outputs, a_ij = model(sen, start, end, span)\n",
    "        result.extend(outputs)    \n",
    "    pred.append(result)"
   ]
  },
  {
   "cell_type": "code",
   "execution_count": 24,
   "metadata": {
    "execution": {
     "iopub.execute_input": "2022-02-11T01:01:49.180200Z",
     "iopub.status.busy": "2022-02-11T01:01:49.179561Z",
     "iopub.status.idle": "2022-02-11T01:01:49.302677Z",
     "shell.execute_reply": "2022-02-11T01:01:49.302036Z",
     "shell.execute_reply.started": "2022-02-11T01:01:49.180155Z"
    }
   },
   "outputs": [],
   "source": [
    "output = []\n",
    "for pred1, pred2, pred3, pred4, pred5 in zip(pred[0], pred[1], pred[2], pred[3], pred[4]):\n",
    "    output.append(int(torch.argmax(pred1 + pred2 + pred3 + pred4 + pred5)))"
   ]
  },
  {
   "cell_type": "code",
   "execution_count": 25,
   "metadata": {
    "execution": {
     "iopub.execute_input": "2022-02-11T01:01:49.304136Z",
     "iopub.status.busy": "2022-02-11T01:01:49.303904Z",
     "iopub.status.idle": "2022-02-11T01:01:49.311076Z",
     "shell.execute_reply": "2022-02-11T01:01:49.310253Z",
     "shell.execute_reply.started": "2022-02-11T01:01:49.304103Z"
    }
   },
   "outputs": [],
   "source": [
    "import datetime\n",
    "\n",
    "dt_now = datetime.datetime.now()\n",
    "print(dt_now)\n",
    "fname = str(dt_now.date())"
   ]
  },
  {
   "cell_type": "code",
   "execution_count": 26,
   "metadata": {
    "execution": {
     "iopub.execute_input": "2022-02-11T01:01:49.313014Z",
     "iopub.status.busy": "2022-02-11T01:01:49.312590Z",
     "iopub.status.idle": "2022-02-11T01:01:49.320356Z",
     "shell.execute_reply": "2022-02-11T01:01:49.319600Z",
     "shell.execute_reply.started": "2022-02-11T01:01:49.312977Z"
    }
   },
   "outputs": [],
   "source": [
    "label_dict = {\"entailment\" : 0, \"contradiction\" : 1, \"neutral\" : 2}\n",
    "out = [list(label_dict.keys())[_] for _ in output]\n",
    "\n",
    "submission[\"label\"] = out"
   ]
  },
  {
   "cell_type": "code",
   "execution_count": 27,
   "metadata": {
    "execution": {
     "iopub.execute_input": "2022-02-11T01:01:49.322041Z",
     "iopub.status.busy": "2022-02-11T01:01:49.321744Z",
     "iopub.status.idle": "2022-02-11T01:01:49.342155Z",
     "shell.execute_reply": "2022-02-11T01:01:49.341494Z",
     "shell.execute_reply.started": "2022-02-11T01:01:49.321984Z"
    }
   },
   "outputs": [],
   "source": [
    "submission"
   ]
  },
  {
   "cell_type": "code",
   "execution_count": 29,
   "metadata": {
    "execution": {
     "iopub.execute_input": "2022-02-11T01:02:07.238860Z",
     "iopub.status.busy": "2022-02-11T01:02:07.238594Z",
     "iopub.status.idle": "2022-02-11T01:02:07.250518Z",
     "shell.execute_reply": "2022-02-11T01:02:07.249626Z",
     "shell.execute_reply.started": "2022-02-11T01:02:07.238830Z"
    }
   },
   "outputs": [],
   "source": [
    "submission.to_csv(f'/kaggle/working/'+ fname + \"_1\" + \".csv\", index = False)"
   ]
  },
  {
   "cell_type": "code",
   "execution_count": null,
   "metadata": {},
   "outputs": [],
   "source": []
  }
 ],
 "metadata": {
  "kernelspec": {
   "display_name": "Python 3 (ipykernel)",
   "language": "python",
   "name": "python3"
  },
  "language_info": {
   "codemirror_mode": {
    "name": "ipython",
    "version": 3
   },
   "file_extension": ".py",
   "mimetype": "text/x-python",
   "name": "python",
   "nbconvert_exporter": "python",
   "pygments_lexer": "ipython3",
   "version": "3.9.6"
  }
 },
 "nbformat": 4,
 "nbformat_minor": 4
}
